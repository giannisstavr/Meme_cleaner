{
 "cells": [
  {
   "cell_type": "code",
   "execution_count": 1,
   "id": "e7beae56",
   "metadata": {},
   "outputs": [
    {
     "name": "stdout",
     "output_type": "stream",
     "text": [
      "Scanning for corrupted images in: C:\\Users\\tsili\\Documents\\Meme_cleaner\\dataset\n",
      "Found bad file: C:\\Users\\tsili\\Documents\\Meme_cleaner\\dataset\\meme\\image_5119.png  |  Reason: image file is truncated\n",
      "\n",
      "==================================================\n",
      "Scan complete. Found 1 corrupted files.\n",
      "A list of these files has been saved to: bad_files.txt\n",
      "You can now review this list and then run the 'delete_files_from_list.py' script.\n"
     ]
    }
   ],
   "source": [
    "# find_bad_images.py\n",
    "\n",
    "import os\n",
    "from PIL import Image\n",
    "\n",
    "# --- Configuration ---\n",
    "# Set this to the root directory of your dataset\n",
    "dataset_root_dir =  r\"C:\\Users\\tsili\\Documents\\Meme_cleaner\\dataset\"\n",
    "# The name of the file where the list of bad files will be saved\n",
    "output_file_path = \"bad_files.txt\"\n",
    "# ---\n",
    "\n",
    "bad_files = []\n",
    "print(f\"Scanning for corrupted images in: {dataset_root_dir}\")\n",
    "\n",
    "# os.walk will go through all subdirectories recursively\n",
    "for dirpath, dirnames, filenames in os.walk(dataset_root_dir):\n",
    "    for filename in filenames:\n",
    "        # Check for common image file extensions\n",
    "        if filename.lower().endswith(('.png', '.jpg', '.jpeg', '.gif', '.bmp')):\n",
    "            filepath = os.path.join(dirpath, filename)\n",
    "            try:\n",
    "                # Open the image file\n",
    "                img = Image.open(filepath)\n",
    "                # Force PIL to read the entire image to check for truncation\n",
    "                img.load()\n",
    "            except (IOError, OSError) as e:\n",
    "                # This block catches corrupted or truncated files\n",
    "                print(f\"Found bad file: {filepath}  |  Reason: {e}\")\n",
    "                bad_files.append(filepath)\n",
    "\n",
    "print(\"\\n\" + \"=\"*50)\n",
    "if bad_files:\n",
    "    print(f\"Scan complete. Found {len(bad_files)} corrupted files.\")\n",
    "    # Save the list of bad file paths to the output file\n",
    "    with open(output_file_path, \"w\") as f:\n",
    "        for path in bad_files:\n",
    "            f.write(f\"{path}\\n\")\n",
    "    print(f\"A list of these files has been saved to: {output_file_path}\")\n",
    "    print(\"You can now review this list and then run the 'delete_files_from_list.py' script.\")\n",
    "else:\n",
    "    print(\"Scan complete. No corrupted images were found!\")"
   ]
  },
  {
   "cell_type": "code",
   "execution_count": 4,
   "id": "308b97c9",
   "metadata": {},
   "outputs": [
    {
     "name": "stdout",
     "output_type": "stream",
     "text": [
      "==================================================\n",
      "The following 1 files are scheduled for deletion:\n",
      "  - C:\\Users\\tsili\\Documents\\Meme_cleaner\\dataset\\meme\\image_5119.png\n",
      "==================================================\n",
      "Deleted: C:\\Users\\tsili\\Documents\\Meme_cleaner\\dataset\\meme\\image_5119.png\n",
      "\n",
      "Deletion complete. 1 of 1 files were deleted.\n"
     ]
    }
   ],
   "source": [
    "# delete_files_from_list.py\n",
    "\n",
    "import os\n",
    "\n",
    "# --- Configuration ---\n",
    "# This file should have been created by the find_bad_images.py script\n",
    "input_file_path = \"bad_files.txt\"\n",
    "# ---\n",
    "\n",
    "# Safety check: ensure the file list exists\n",
    "if not os.path.exists(input_file_path):\n",
    "    print(f\"Error: The file '{input_file_path}' was not found.\")\n",
    "    print(\"Please run the 'find_bad_images.py' script first to generate it.\")\n",
    "    exit() # Stop the script\n",
    "\n",
    "# Read the file paths from the text file\n",
    "with open(input_file_path, \"r\") as f:\n",
    "    # .strip() removes leading/trailing whitespace, including the newline character\n",
    "    files_to_delete = [line.strip() for line in f if line.strip()]\n",
    "\n",
    "if not files_to_delete:\n",
    "    print(f\"The file '{input_file_path}' is empty. Nothing to do.\")\n",
    "    exit()\n",
    "\n",
    "# --- SAFETY CONFIRMATION STEP ---\n",
    "print(\"=\"*50)\n",
    "print(f\"The following {len(files_to_delete)} files are scheduled for deletion:\")\n",
    "for filepath in files_to_delete:\n",
    "    print(f\"  - {filepath}\")\n",
    "\n",
    "print(\"=\"*50)\n",
    "user_input = input(\"\\nAre you absolutely sure you want to PERMANENTLY delete these files? (yes/no): \").lower()\n",
    "\n",
    "if user_input == 'yes':\n",
    "    deleted_count = 0\n",
    "    for filepath in files_to_delete:\n",
    "        try:\n",
    "            os.remove(filepath)\n",
    "            print(f\"Deleted: {filepath}\")\n",
    "            deleted_count += 1\n",
    "        except FileNotFoundError:\n",
    "            print(f\"Warning: File not found (may have been deleted already): {filepath}\")\n",
    "        except OSError as e:\n",
    "            print(f\"Error deleting {filepath}: {e}\")\n",
    "\n",
    "    print(f\"\\nDeletion complete. {deleted_count} of {len(files_to_delete)} files were deleted.\")\n",
    "    # Clean up the list file after deletion\n",
    "    # os.remove(input_file_path)\n",
    "else:\n",
    "    print(\"Deletion canceled by user. No files were touched.\")"
   ]
  }
 ],
 "metadata": {
  "kernelspec": {
   "display_name": "pytorch",
   "language": "python",
   "name": "python3"
  },
  "language_info": {
   "codemirror_mode": {
    "name": "ipython",
    "version": 3
   },
   "file_extension": ".py",
   "mimetype": "text/x-python",
   "name": "python",
   "nbconvert_exporter": "python",
   "pygments_lexer": "ipython3",
   "version": "3.12.10"
  }
 },
 "nbformat": 4,
 "nbformat_minor": 5
}
